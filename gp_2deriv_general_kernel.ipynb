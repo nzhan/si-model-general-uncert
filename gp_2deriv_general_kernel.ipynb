{
 "cells": [
  {
   "cell_type": "code",
   "execution_count": 1,
   "metadata": {
    "id": "-2OLpXFlk1D9"
   },
   "outputs": [],
   "source": [
    "import jax.numpy as jnp\n",
    "from jax import vmap, grad"
   ]
  },
  {
   "cell_type": "code",
   "execution_count": 2,
   "metadata": {
    "colab": {
     "base_uri": "https://localhost:8080/"
    },
    "id": "3o2qsuUamQ2G",
    "outputId": "a9099c75-17d5-4fbf-a764-19af73bc8756"
   },
   "outputs": [
    {
     "name": "stdout",
     "output_type": "stream",
     "text": [
      "Mounted at /content/drive\n"
     ]
    }
   ],
   "source": [
    "from google.colab import drive\n",
    "drive.mount('/content/drive')"
   ]
  },
  {
   "cell_type": "code",
   "execution_count": 4,
   "metadata": {
    "id": "s5HKbz37mV6s"
   },
   "outputs": [],
   "source": [
    "import numpy as np\n",
    "#V = np.load('/content/drive/MyDrive/nn-reaxff/v-au.npy')\n",
    "#nrg = np.load('/content/drive/MyDrive/nn-reaxff/nrg-au.npy')\n",
    "V = np.load('/content/drive/MyDrive/boes-pd-o/v-pd.npy')\n",
    "nrg = np.load('/content/drive/MyDrive/boes-pd-o/nrg-pd.npy')"
   ]
  },
  {
   "cell_type": "code",
   "execution_count": 7,
   "metadata": {
    "id": "eGg3eHVunWbD"
   },
   "outputs": [],
   "source": [
    "from jax import jacobian, vmap\n",
    "\n",
    "# Define covariance function\n",
    "def mycov(xx_vals1, xx_vals2):\n",
    "  return outputscale*jnp.exp(-1/2*((xx_vals1-xx_vals2)/lengthscale)**2)\n",
    "\n",
    "#def mycov(xx_vals1, xx_vals2):\n",
    "#  return outputscale*xx_vals1*xx_vals2\n",
    "\n",
    "#define derivatives\n",
    "v_grad = vmap(jacobian(mycov,1),0)\n",
    "v_grad2 = vmap(jacobian(mycov,0),0)\n",
    "ffppcov = vmap(jacobian(jacobian(mycov,1),1),0)\n",
    "ffppcov2 = vmap(jacobian(jacobian(mycov,0),0),0)\n",
    "fpfpcov = vmap(jacobian(jacobian(mycov,0),1),0)\n",
    "hess_jac = vmap(jacobian(jacobian(jacobian(mycov,1),1),0),0)\n",
    "hess_jac2 = vmap(jacobian(jacobian(jacobian(mycov,0),0),1),0)\n",
    "hess_hess = vmap(jacobian(jacobian(jacobian(jacobian(mycov,1),1),0),0),0)"
   ]
  },
  {
   "cell_type": "code",
   "execution_count": 8,
   "metadata": {
    "id": "18VWVrLdniZA"
   },
   "outputs": [],
   "source": [
    "def build_cov_composite(example_i, example_j):\n",
    "  '''example_i: row_index of covariance matrix, (N,2) for N points,\n",
    "  second column required to be 0,1,2 for function, first-deriv, second-deriv\n",
    "  must be in order, all 0s first, then 1s, then 2s. (to exploit upper triangular structure)\n",
    "    example_j: col-index of covariance matrix, (M,2) for M points\n",
    "    same specifications for the second column as example_i\n",
    "  '''\n",
    "  #if samearr we will get upper-tri and then make it symmetric. otherwise we will\n",
    "  #get the whole matrix.\n",
    "  samearr = np.array_equal(example_i, example_j)\n",
    "  N = len(example_i)\n",
    "  M = len(example_j)\n",
    "  KK = np.zeros((N,M))\n",
    "  inds0i = np.where(example_i[:,1]==0)[0]\n",
    "  inds1i = np.where(example_i[:,1]==1)[0]\n",
    "  inds2i = np.where(example_i[:,1]==2)[0]\n",
    "\n",
    "  inds0j = np.where(example_j[:,1]==0)[0]\n",
    "  inds1j = np.where(example_j[:,1]==1)[0]\n",
    "  inds2j = np.where(example_j[:,1]==2)[0]\n",
    "\n",
    "  def getinds(indsi, indsj, utri=True): \n",
    "    \"\"\"returns \n",
    "    inds: tuple of ((i), (j)) index for covariance matrix\n",
    "    points: array of (2,x). row and column values to use for calculating covar\n",
    "    \"\"\"  \n",
    "    x,y = np.meshgrid(indsi,indsj)\n",
    "    if utri:\n",
    "      g = [(xi,yi) for xi,yi in zip(x.flatten(), y.flatten()) if yi>=xi]\n",
    "      inds = tuple(zip(*g))\n",
    "    else:\n",
    "      inds = tuple((x.flatten(),y.flatten()))\n",
    "    ival = example_i[inds[0],0]\n",
    "    jval = example_j[inds[1],0]\n",
    "    points = np.vstack((ival,jval))\n",
    "    return inds, points \n",
    "\n",
    "  utri=samearr\n",
    "\n",
    "  #fill in (f,f) covariance\n",
    "  if len(inds0i) != 0 and len(inds0j) != 0:\n",
    "    inds, points = getinds(inds0i, inds0j, utri)\n",
    "    KK[inds] = mycov(points[0], points[1])\n",
    "\n",
    "\n",
    "  #fill in (f,f') covariance\n",
    "  if len(inds0i) != 0 and len(inds1j) != 0:\n",
    "    inds, points = getinds(inds0i, inds1j, utri)\n",
    "    KK[inds] = v_grad(points[0], points[1])\n",
    "    if not samearr:\n",
    "      if len(inds1i) != 0 and len(inds0j) != 0:\n",
    "        inds, points = getinds(inds1i, inds0j, utri)\n",
    "        KK[inds] = v_grad2(points[0], points[1])\n",
    "\n",
    "\n",
    "  #fill in (f,f'') covariance\n",
    "  if len(inds0i) != 0 and len(inds2j) != 0:\n",
    "    inds, points = getinds(inds0i,inds2j, utri)\n",
    "    KK[inds] = ffppcov(points[0], points[1])\n",
    "    if not samearr:\n",
    "      if len(inds2i) != 0 and len(inds0j) != 0:\n",
    "        inds, points = getinds(inds2i,inds0j, utri)\n",
    "        KK[inds] = ffppcov2(points[0], points[1])\n",
    "\n",
    "  #fill in (f',f') covariance\n",
    "  if len(inds1i) != 0 and len(inds1j) != 0:\n",
    "    inds, points = getinds(inds1i,inds1j, utri)\n",
    "    KK[inds] = fpfpcov(points[0], points[1])\n",
    "\n",
    "  #fill in (f', f'') covariance\n",
    "  if len(inds1i) != 0 and len(inds2j) != 0:\n",
    "    inds, points = getinds(inds1i, inds2j, utri)\n",
    "    KK[inds] = hess_jac(points[0], points[1])\n",
    "    if not samearr:\n",
    "      if len(inds1j) != 0 and len(inds2i) != 0:\n",
    "        inds, points = getinds(inds2i, inds1j, utri)\n",
    "        KK[inds] = hess_jac2(points[0], points[1])\n",
    "\n",
    "  #fill in (f'',f'') covariance\n",
    "  if len(inds2i) !=0 and len(inds2j) != 0:\n",
    "    inds, points = getinds(inds2i, inds2j, utri)\n",
    "    KK[inds] = hess_hess(points[0], points[1])\n",
    "\n",
    "  if samearr:\n",
    "    KK = KK + KK.T - np.diag(np.diagonal(KK))\n",
    "  return KK\n"
   ]
  },
  {
   "cell_type": "code",
   "execution_count": 9,
   "metadata": {
    "id": "OiLprNdanl3b"
   },
   "outputs": [],
   "source": [
    "def get_mean_var(feature_list, Yn, dom_list, sigma_n):\n",
    "    '''\n",
    "    feature_list: train x,\n",
    "    Yn: train y,\n",
    "    dom_list: points to sample,\n",
    "    sigma_n: regularizer (likelihood noise?)\n",
    "    '''\n",
    "    Knn = build_cov_composite(feature_list, feature_list) \n",
    "    N_samp, _ = np.shape(Knn)\n",
    "    M_dom = len(dom_list)\n",
    "    Kmm = build_cov_composite(dom_list, dom_list)\n",
    "    Knm = build_cov_composite(feature_list, dom_list)\n",
    "    \n",
    "    common_term = np.matmul(Knm.T, np.linalg.inv(Knn + \n",
    "                                np.eye(N_samp)*sigma_n**2))\n",
    "\n",
    "    mu = np.matmul(common_term, Yn)\n",
    "    var = Kmm - np.matmul(common_term, Knm)\n",
    "    \n",
    "    return mu, var"
   ]
  },
  {
   "cell_type": "code",
   "execution_count": 10,
   "metadata": {
    "id": "tMxE8f7Pnorh"
   },
   "outputs": [],
   "source": [
    "#change this per problem, from gpytorch\n",
    "#for Au\n",
    "#lengthscale = 4.2634\n",
    "#outputscale = 0.8007\n",
    "\n",
    "#for Pd\n",
    "lengthscale = 2.5931\n",
    "outputscale = 0.0796"
   ]
  },
  {
   "cell_type": "code",
   "execution_count": 12,
   "metadata": {
    "id": "Xqh-CBuBn8Yo"
   },
   "outputs": [],
   "source": [
    "#train input X\n",
    "x_data = np.vstack((V,np.zeros_like(V))).T\n",
    "\n",
    "#make test input X*\n",
    "v_test1 = np.linspace(9., 29., 1000)\n",
    "\n",
    "v_test = np.vstack((v_test1,np.zeros_like(v_test1)))\n",
    "\n",
    "v_testp = np.vstack((v_test1, np.ones_like(v_test1)))\n",
    "v_testpp = np.vstack((v_test1, 2*np.ones_like(v_test1)))\n",
    "\n",
    "v_testall = np.hstack((v_test, v_testp, v_testpp)).T"
   ]
  },
  {
   "cell_type": "code",
   "execution_count": null,
   "metadata": {
    "colab": {
     "base_uri": "https://localhost:8080/"
    },
    "id": "GWfbikO-oLdC",
    "outputId": "eadbefda-7ddd-4222-9281-b0c5970fd8d9"
   },
   "outputs": [
    {
     "name": "stderr",
     "output_type": "stream",
     "text": [
      "WARNING:absl:No GPU/TPU found, falling back to CPU. (Set TF_CPP_MIN_LOG_LEVEL=0 and rerun for more info.)\n"
     ]
    }
   ],
   "source": [
    "#we used sigma_n = 1e-3 for Au, and used 0.5e-3 for Pd.\n",
    "#it helps the stability.\n",
    "sigma_n = 0.5e-3\n",
    "mu1, var1 = get_mean_var(x_data, nrg, v_testall, sigma_n)\n",
    "samples2 = np.random.multivariate_normal(mu1, var1, size=1000)\n"
   ]
  },
  {
   "cell_type": "code",
   "execution_count": null,
   "metadata": {
    "id": "Fr0mWBnooV7o"
   },
   "outputs": [],
   "source": [
    "np.save('mu-au.npy', mu1)\n",
    "np.save('var-au.npy', np.diagonal(var1))\n",
    "np.save('samples-au.npy', samples2)"
   ]
  }
 ],
 "metadata": {
  "colab": {
   "collapsed_sections": [],
   "name": "gp-2deriv-general-kernel.ipynb",
   "provenance": []
  },
  "kernelspec": {
   "display_name": "Python 3",
   "language": "python",
   "name": "python3"
  },
  "language_info": {
   "codemirror_mode": {
    "name": "ipython",
    "version": 3
   },
   "file_extension": ".py",
   "mimetype": "text/x-python",
   "name": "python",
   "nbconvert_exporter": "python",
   "pygments_lexer": "ipython3",
   "version": "3.7.4"
  },
  "toc": {
   "base_numbering": 1,
   "nav_menu": {},
   "number_sections": true,
   "sideBar": true,
   "skip_h1_title": false,
   "title_cell": "Table of Contents",
   "title_sidebar": "Contents",
   "toc_cell": false,
   "toc_position": {},
   "toc_section_display": true,
   "toc_window_display": false
  },
  "varInspector": {
   "cols": {
    "lenName": 16,
    "lenType": 16,
    "lenVar": 40
   },
   "kernels_config": {
    "python": {
     "delete_cmd_postfix": "",
     "delete_cmd_prefix": "del ",
     "library": "var_list.py",
     "varRefreshCmd": "print(var_dic_list())"
    },
    "r": {
     "delete_cmd_postfix": ") ",
     "delete_cmd_prefix": "rm(",
     "library": "var_list.r",
     "varRefreshCmd": "cat(var_dic_list()) "
    }
   },
   "types_to_exclude": [
    "module",
    "function",
    "builtin_function_or_method",
    "instance",
    "_Feature"
   ],
   "window_display": false
  }
 },
 "nbformat": 4,
 "nbformat_minor": 1
}
